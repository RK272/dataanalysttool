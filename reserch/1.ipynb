{
 "cells": [
  {
   "cell_type": "code",
   "execution_count": 3,
   "metadata": {},
   "outputs": [
    {
     "name": "stdout",
     "output_type": "stream",
     "text": [
      "^C\n",
      "Note: you may need to restart the kernel to use updated packages.\n"
     ]
    },
    {
     "name": "stdout",
     "output_type": "stream",
     "text": [
      "Collecting pandas\n",
      "  Using cached pandas-2.2.2-cp310-cp310-win_amd64.whl.metadata (19 kB)\n",
      "Collecting numpy>=1.22.4 (from pandas)\n",
      "  Using cached numpy-2.1.0-cp310-cp310-win_amd64.whl.metadata (59 kB)\n",
      "Requirement already satisfied: python-dateutil>=2.8.2 in c:\\users\\admin\\venv\\lib\\site-packages (from pandas) (2.9.0)\n",
      "Collecting pytz>=2020.1 (from pandas)\n",
      "  Using cached pytz-2024.1-py2.py3-none-any.whl.metadata (22 kB)\n",
      "Collecting tzdata>=2022.7 (from pandas)\n",
      "  Using cached tzdata-2024.1-py2.py3-none-any.whl.metadata (1.4 kB)\n",
      "Requirement already satisfied: six>=1.5 in c:\\users\\admin\\venv\\lib\\site-packages (from python-dateutil>=2.8.2->pandas) (1.16.0)\n",
      "Using cached pandas-2.2.2-cp310-cp310-win_amd64.whl (11.6 MB)\n",
      "Using cached numpy-2.1.0-cp310-cp310-win_amd64.whl (12.9 MB)\n",
      "Using cached pytz-2024.1-py2.py3-none-any.whl (505 kB)\n",
      "Using cached tzdata-2024.1-py2.py3-none-any.whl (345 kB)\n",
      "Installing collected packages: pytz, tzdata, numpy, pandas\n",
      "Successfully installed numpy-2.1.0 pandas-2.2.2 pytz-2024.1 tzdata-2024.1\n"
     ]
    }
   ],
   "source": [
    "pip install pandas"
   ]
  },
  {
   "cell_type": "code",
   "execution_count": 57,
   "metadata": {},
   "outputs": [],
   "source": [
    "import pandas as pd"
   ]
  },
  {
   "cell_type": "code",
   "execution_count": 58,
   "metadata": {},
   "outputs": [
    {
     "data": {
      "text/plain": [
       "'d:\\\\'"
      ]
     },
     "execution_count": 58,
     "metadata": {},
     "output_type": "execute_result"
    }
   ],
   "source": [
    "pwd"
   ]
  },
  {
   "cell_type": "code",
   "execution_count": 61,
   "metadata": {},
   "outputs": [
    {
     "name": "stdout",
     "output_type": "stream",
     "text": [
      "d:\\\n"
     ]
    }
   ],
   "source": [
    "cd ../"
   ]
  },
  {
   "cell_type": "code",
   "execution_count": 62,
   "metadata": {},
   "outputs": [
    {
     "ename": "FileNotFoundError",
     "evalue": "[Errno 2] No such file or directory: 'dataanalysttool/data/data.csv'",
     "output_type": "error",
     "traceback": [
      "\u001b[1;31m---------------------------------------------------------------------------\u001b[0m",
      "\u001b[1;31mFileNotFoundError\u001b[0m                         Traceback (most recent call last)",
      "Cell \u001b[1;32mIn[62], line 1\u001b[0m\n\u001b[1;32m----> 1\u001b[0m d\u001b[38;5;241m=\u001b[39m\u001b[43mpd\u001b[49m\u001b[38;5;241;43m.\u001b[39;49m\u001b[43mread_csv\u001b[49m\u001b[43m(\u001b[49m\u001b[38;5;124;43m\"\u001b[39;49m\u001b[38;5;124;43mdataanalysttool/data/data.csv\u001b[39;49m\u001b[38;5;124;43m\"\u001b[39;49m\u001b[43m)\u001b[49m\n",
      "File \u001b[1;32mc:\\Users\\Admin\\venv\\lib\\site-packages\\pandas\\io\\parsers\\readers.py:1026\u001b[0m, in \u001b[0;36mread_csv\u001b[1;34m(filepath_or_buffer, sep, delimiter, header, names, index_col, usecols, dtype, engine, converters, true_values, false_values, skipinitialspace, skiprows, skipfooter, nrows, na_values, keep_default_na, na_filter, verbose, skip_blank_lines, parse_dates, infer_datetime_format, keep_date_col, date_parser, date_format, dayfirst, cache_dates, iterator, chunksize, compression, thousands, decimal, lineterminator, quotechar, quoting, doublequote, escapechar, comment, encoding, encoding_errors, dialect, on_bad_lines, delim_whitespace, low_memory, memory_map, float_precision, storage_options, dtype_backend)\u001b[0m\n\u001b[0;32m   1013\u001b[0m kwds_defaults \u001b[38;5;241m=\u001b[39m _refine_defaults_read(\n\u001b[0;32m   1014\u001b[0m     dialect,\n\u001b[0;32m   1015\u001b[0m     delimiter,\n\u001b[1;32m   (...)\u001b[0m\n\u001b[0;32m   1022\u001b[0m     dtype_backend\u001b[38;5;241m=\u001b[39mdtype_backend,\n\u001b[0;32m   1023\u001b[0m )\n\u001b[0;32m   1024\u001b[0m kwds\u001b[38;5;241m.\u001b[39mupdate(kwds_defaults)\n\u001b[1;32m-> 1026\u001b[0m \u001b[38;5;28;01mreturn\u001b[39;00m \u001b[43m_read\u001b[49m\u001b[43m(\u001b[49m\u001b[43mfilepath_or_buffer\u001b[49m\u001b[43m,\u001b[49m\u001b[43m \u001b[49m\u001b[43mkwds\u001b[49m\u001b[43m)\u001b[49m\n",
      "File \u001b[1;32mc:\\Users\\Admin\\venv\\lib\\site-packages\\pandas\\io\\parsers\\readers.py:620\u001b[0m, in \u001b[0;36m_read\u001b[1;34m(filepath_or_buffer, kwds)\u001b[0m\n\u001b[0;32m    617\u001b[0m _validate_names(kwds\u001b[38;5;241m.\u001b[39mget(\u001b[38;5;124m\"\u001b[39m\u001b[38;5;124mnames\u001b[39m\u001b[38;5;124m\"\u001b[39m, \u001b[38;5;28;01mNone\u001b[39;00m))\n\u001b[0;32m    619\u001b[0m \u001b[38;5;66;03m# Create the parser.\u001b[39;00m\n\u001b[1;32m--> 620\u001b[0m parser \u001b[38;5;241m=\u001b[39m TextFileReader(filepath_or_buffer, \u001b[38;5;241m*\u001b[39m\u001b[38;5;241m*\u001b[39mkwds)\n\u001b[0;32m    622\u001b[0m \u001b[38;5;28;01mif\u001b[39;00m chunksize \u001b[38;5;129;01mor\u001b[39;00m iterator:\n\u001b[0;32m    623\u001b[0m     \u001b[38;5;28;01mreturn\u001b[39;00m parser\n",
      "File \u001b[1;32mc:\\Users\\Admin\\venv\\lib\\site-packages\\pandas\\io\\parsers\\readers.py:1620\u001b[0m, in \u001b[0;36mTextFileReader.__init__\u001b[1;34m(self, f, engine, **kwds)\u001b[0m\n\u001b[0;32m   1617\u001b[0m     \u001b[38;5;28mself\u001b[39m\u001b[38;5;241m.\u001b[39moptions[\u001b[38;5;124m\"\u001b[39m\u001b[38;5;124mhas_index_names\u001b[39m\u001b[38;5;124m\"\u001b[39m] \u001b[38;5;241m=\u001b[39m kwds[\u001b[38;5;124m\"\u001b[39m\u001b[38;5;124mhas_index_names\u001b[39m\u001b[38;5;124m\"\u001b[39m]\n\u001b[0;32m   1619\u001b[0m \u001b[38;5;28mself\u001b[39m\u001b[38;5;241m.\u001b[39mhandles: IOHandles \u001b[38;5;241m|\u001b[39m \u001b[38;5;28;01mNone\u001b[39;00m \u001b[38;5;241m=\u001b[39m \u001b[38;5;28;01mNone\u001b[39;00m\n\u001b[1;32m-> 1620\u001b[0m \u001b[38;5;28mself\u001b[39m\u001b[38;5;241m.\u001b[39m_engine \u001b[38;5;241m=\u001b[39m \u001b[38;5;28;43mself\u001b[39;49m\u001b[38;5;241;43m.\u001b[39;49m\u001b[43m_make_engine\u001b[49m\u001b[43m(\u001b[49m\u001b[43mf\u001b[49m\u001b[43m,\u001b[49m\u001b[43m \u001b[49m\u001b[38;5;28;43mself\u001b[39;49m\u001b[38;5;241;43m.\u001b[39;49m\u001b[43mengine\u001b[49m\u001b[43m)\u001b[49m\n",
      "File \u001b[1;32mc:\\Users\\Admin\\venv\\lib\\site-packages\\pandas\\io\\parsers\\readers.py:1880\u001b[0m, in \u001b[0;36mTextFileReader._make_engine\u001b[1;34m(self, f, engine)\u001b[0m\n\u001b[0;32m   1878\u001b[0m     \u001b[38;5;28;01mif\u001b[39;00m \u001b[38;5;124m\"\u001b[39m\u001b[38;5;124mb\u001b[39m\u001b[38;5;124m\"\u001b[39m \u001b[38;5;129;01mnot\u001b[39;00m \u001b[38;5;129;01min\u001b[39;00m mode:\n\u001b[0;32m   1879\u001b[0m         mode \u001b[38;5;241m+\u001b[39m\u001b[38;5;241m=\u001b[39m \u001b[38;5;124m\"\u001b[39m\u001b[38;5;124mb\u001b[39m\u001b[38;5;124m\"\u001b[39m\n\u001b[1;32m-> 1880\u001b[0m \u001b[38;5;28mself\u001b[39m\u001b[38;5;241m.\u001b[39mhandles \u001b[38;5;241m=\u001b[39m \u001b[43mget_handle\u001b[49m\u001b[43m(\u001b[49m\n\u001b[0;32m   1881\u001b[0m \u001b[43m    \u001b[49m\u001b[43mf\u001b[49m\u001b[43m,\u001b[49m\n\u001b[0;32m   1882\u001b[0m \u001b[43m    \u001b[49m\u001b[43mmode\u001b[49m\u001b[43m,\u001b[49m\n\u001b[0;32m   1883\u001b[0m \u001b[43m    \u001b[49m\u001b[43mencoding\u001b[49m\u001b[38;5;241;43m=\u001b[39;49m\u001b[38;5;28;43mself\u001b[39;49m\u001b[38;5;241;43m.\u001b[39;49m\u001b[43moptions\u001b[49m\u001b[38;5;241;43m.\u001b[39;49m\u001b[43mget\u001b[49m\u001b[43m(\u001b[49m\u001b[38;5;124;43m\"\u001b[39;49m\u001b[38;5;124;43mencoding\u001b[39;49m\u001b[38;5;124;43m\"\u001b[39;49m\u001b[43m,\u001b[49m\u001b[43m \u001b[49m\u001b[38;5;28;43;01mNone\u001b[39;49;00m\u001b[43m)\u001b[49m\u001b[43m,\u001b[49m\n\u001b[0;32m   1884\u001b[0m \u001b[43m    \u001b[49m\u001b[43mcompression\u001b[49m\u001b[38;5;241;43m=\u001b[39;49m\u001b[38;5;28;43mself\u001b[39;49m\u001b[38;5;241;43m.\u001b[39;49m\u001b[43moptions\u001b[49m\u001b[38;5;241;43m.\u001b[39;49m\u001b[43mget\u001b[49m\u001b[43m(\u001b[49m\u001b[38;5;124;43m\"\u001b[39;49m\u001b[38;5;124;43mcompression\u001b[39;49m\u001b[38;5;124;43m\"\u001b[39;49m\u001b[43m,\u001b[49m\u001b[43m \u001b[49m\u001b[38;5;28;43;01mNone\u001b[39;49;00m\u001b[43m)\u001b[49m\u001b[43m,\u001b[49m\n\u001b[0;32m   1885\u001b[0m \u001b[43m    \u001b[49m\u001b[43mmemory_map\u001b[49m\u001b[38;5;241;43m=\u001b[39;49m\u001b[38;5;28;43mself\u001b[39;49m\u001b[38;5;241;43m.\u001b[39;49m\u001b[43moptions\u001b[49m\u001b[38;5;241;43m.\u001b[39;49m\u001b[43mget\u001b[49m\u001b[43m(\u001b[49m\u001b[38;5;124;43m\"\u001b[39;49m\u001b[38;5;124;43mmemory_map\u001b[39;49m\u001b[38;5;124;43m\"\u001b[39;49m\u001b[43m,\u001b[49m\u001b[43m \u001b[49m\u001b[38;5;28;43;01mFalse\u001b[39;49;00m\u001b[43m)\u001b[49m\u001b[43m,\u001b[49m\n\u001b[0;32m   1886\u001b[0m \u001b[43m    \u001b[49m\u001b[43mis_text\u001b[49m\u001b[38;5;241;43m=\u001b[39;49m\u001b[43mis_text\u001b[49m\u001b[43m,\u001b[49m\n\u001b[0;32m   1887\u001b[0m \u001b[43m    \u001b[49m\u001b[43merrors\u001b[49m\u001b[38;5;241;43m=\u001b[39;49m\u001b[38;5;28;43mself\u001b[39;49m\u001b[38;5;241;43m.\u001b[39;49m\u001b[43moptions\u001b[49m\u001b[38;5;241;43m.\u001b[39;49m\u001b[43mget\u001b[49m\u001b[43m(\u001b[49m\u001b[38;5;124;43m\"\u001b[39;49m\u001b[38;5;124;43mencoding_errors\u001b[39;49m\u001b[38;5;124;43m\"\u001b[39;49m\u001b[43m,\u001b[49m\u001b[43m \u001b[49m\u001b[38;5;124;43m\"\u001b[39;49m\u001b[38;5;124;43mstrict\u001b[39;49m\u001b[38;5;124;43m\"\u001b[39;49m\u001b[43m)\u001b[49m\u001b[43m,\u001b[49m\n\u001b[0;32m   1888\u001b[0m \u001b[43m    \u001b[49m\u001b[43mstorage_options\u001b[49m\u001b[38;5;241;43m=\u001b[39;49m\u001b[38;5;28;43mself\u001b[39;49m\u001b[38;5;241;43m.\u001b[39;49m\u001b[43moptions\u001b[49m\u001b[38;5;241;43m.\u001b[39;49m\u001b[43mget\u001b[49m\u001b[43m(\u001b[49m\u001b[38;5;124;43m\"\u001b[39;49m\u001b[38;5;124;43mstorage_options\u001b[39;49m\u001b[38;5;124;43m\"\u001b[39;49m\u001b[43m,\u001b[49m\u001b[43m \u001b[49m\u001b[38;5;28;43;01mNone\u001b[39;49;00m\u001b[43m)\u001b[49m\u001b[43m,\u001b[49m\n\u001b[0;32m   1889\u001b[0m \u001b[43m\u001b[49m\u001b[43m)\u001b[49m\n\u001b[0;32m   1890\u001b[0m \u001b[38;5;28;01massert\u001b[39;00m \u001b[38;5;28mself\u001b[39m\u001b[38;5;241m.\u001b[39mhandles \u001b[38;5;129;01mis\u001b[39;00m \u001b[38;5;129;01mnot\u001b[39;00m \u001b[38;5;28;01mNone\u001b[39;00m\n\u001b[0;32m   1891\u001b[0m f \u001b[38;5;241m=\u001b[39m \u001b[38;5;28mself\u001b[39m\u001b[38;5;241m.\u001b[39mhandles\u001b[38;5;241m.\u001b[39mhandle\n",
      "File \u001b[1;32mc:\\Users\\Admin\\venv\\lib\\site-packages\\pandas\\io\\common.py:873\u001b[0m, in \u001b[0;36mget_handle\u001b[1;34m(path_or_buf, mode, encoding, compression, memory_map, is_text, errors, storage_options)\u001b[0m\n\u001b[0;32m    868\u001b[0m \u001b[38;5;28;01melif\u001b[39;00m \u001b[38;5;28misinstance\u001b[39m(handle, \u001b[38;5;28mstr\u001b[39m):\n\u001b[0;32m    869\u001b[0m     \u001b[38;5;66;03m# Check whether the filename is to be opened in binary mode.\u001b[39;00m\n\u001b[0;32m    870\u001b[0m     \u001b[38;5;66;03m# Binary mode does not support 'encoding' and 'newline'.\u001b[39;00m\n\u001b[0;32m    871\u001b[0m     \u001b[38;5;28;01mif\u001b[39;00m ioargs\u001b[38;5;241m.\u001b[39mencoding \u001b[38;5;129;01mand\u001b[39;00m \u001b[38;5;124m\"\u001b[39m\u001b[38;5;124mb\u001b[39m\u001b[38;5;124m\"\u001b[39m \u001b[38;5;129;01mnot\u001b[39;00m \u001b[38;5;129;01min\u001b[39;00m ioargs\u001b[38;5;241m.\u001b[39mmode:\n\u001b[0;32m    872\u001b[0m         \u001b[38;5;66;03m# Encoding\u001b[39;00m\n\u001b[1;32m--> 873\u001b[0m         handle \u001b[38;5;241m=\u001b[39m \u001b[38;5;28;43mopen\u001b[39;49m\u001b[43m(\u001b[49m\n\u001b[0;32m    874\u001b[0m \u001b[43m            \u001b[49m\u001b[43mhandle\u001b[49m\u001b[43m,\u001b[49m\n\u001b[0;32m    875\u001b[0m \u001b[43m            \u001b[49m\u001b[43mioargs\u001b[49m\u001b[38;5;241;43m.\u001b[39;49m\u001b[43mmode\u001b[49m\u001b[43m,\u001b[49m\n\u001b[0;32m    876\u001b[0m \u001b[43m            \u001b[49m\u001b[43mencoding\u001b[49m\u001b[38;5;241;43m=\u001b[39;49m\u001b[43mioargs\u001b[49m\u001b[38;5;241;43m.\u001b[39;49m\u001b[43mencoding\u001b[49m\u001b[43m,\u001b[49m\n\u001b[0;32m    877\u001b[0m \u001b[43m            \u001b[49m\u001b[43merrors\u001b[49m\u001b[38;5;241;43m=\u001b[39;49m\u001b[43merrors\u001b[49m\u001b[43m,\u001b[49m\n\u001b[0;32m    878\u001b[0m \u001b[43m            \u001b[49m\u001b[43mnewline\u001b[49m\u001b[38;5;241;43m=\u001b[39;49m\u001b[38;5;124;43m\"\u001b[39;49m\u001b[38;5;124;43m\"\u001b[39;49m\u001b[43m,\u001b[49m\n\u001b[0;32m    879\u001b[0m \u001b[43m        \u001b[49m\u001b[43m)\u001b[49m\n\u001b[0;32m    880\u001b[0m     \u001b[38;5;28;01melse\u001b[39;00m:\n\u001b[0;32m    881\u001b[0m         \u001b[38;5;66;03m# Binary mode\u001b[39;00m\n\u001b[0;32m    882\u001b[0m         handle \u001b[38;5;241m=\u001b[39m \u001b[38;5;28mopen\u001b[39m(handle, ioargs\u001b[38;5;241m.\u001b[39mmode)\n",
      "\u001b[1;31mFileNotFoundError\u001b[0m: [Errno 2] No such file or directory: 'dataanalysttool/data/data.csv'"
     ]
    }
   ],
   "source": [
    "d=pd.read_csv(\"dataanalysttool/data/data.csv\")"
   ]
  },
  {
   "cell_type": "code",
   "execution_count": 53,
   "metadata": {},
   "outputs": [
    {
     "data": {
      "text/plain": [
       "Index(['Unnamed: 0.1', 'Unnamed: 0', 'date', 'open', 'high', 'low', 'close',\n",
       "       'volume'],\n",
       "      dtype='object')"
      ]
     },
     "execution_count": 53,
     "metadata": {},
     "output_type": "execute_result"
    }
   ],
   "source": [
    "d.columns"
   ]
  },
  {
   "cell_type": "code",
   "execution_count": 30,
   "metadata": {},
   "outputs": [
    {
     "name": "stdout",
     "output_type": "stream",
     "text": [
      "int64\n",
      "int64\n",
      "object\n",
      "float64\n",
      "float64\n",
      "float64\n",
      "float64\n",
      "int64\n"
     ]
    }
   ],
   "source": [
    "for i in d.dtypes:\n",
    "    print(i)"
   ]
  },
  {
   "cell_type": "code",
   "execution_count": 31,
   "metadata": {},
   "outputs": [],
   "source": [
    "d['date']=pd.to_datetime(d['date'])"
   ]
  },
  {
   "cell_type": "code",
   "execution_count": 32,
   "metadata": {},
   "outputs": [
    {
     "name": "stdout",
     "output_type": "stream",
     "text": [
      "int64\n",
      "int64\n",
      "datetime64[ns, UTC+05:30]\n",
      "float64\n",
      "float64\n",
      "float64\n",
      "float64\n",
      "int64\n"
     ]
    }
   ],
   "source": [
    "for i in d.dtypes:\n",
    "    print(i)"
   ]
  },
  {
   "cell_type": "code",
   "execution_count": 22,
   "metadata": {},
   "outputs": [
    {
     "data": {
      "text/plain": [
       "Unnamed: 0.1    0\n",
       "Unnamed: 0      0\n",
       "date            0\n",
       "open            0\n",
       "high            0\n",
       "low             0\n",
       "close           0\n",
       "volume          0\n",
       "dtype: int64"
      ]
     },
     "execution_count": 22,
     "metadata": {},
     "output_type": "execute_result"
    }
   ],
   "source": [
    "d.isnull().sum()"
   ]
  },
  {
   "cell_type": "code",
   "execution_count": 23,
   "metadata": {},
   "outputs": [
    {
     "data": {
      "text/plain": [
       "np.int64(0)"
      ]
     },
     "execution_count": 23,
     "metadata": {},
     "output_type": "execute_result"
    }
   ],
   "source": [
    "d['date'].isna().sum()"
   ]
  },
  {
   "cell_type": "code",
   "execution_count": 24,
   "metadata": {},
   "outputs": [
    {
     "name": "stdout",
     "output_type": "stream",
     "text": [
      "0\n"
     ]
    }
   ],
   "source": [
    "print(d['date'].isna().sum())"
   ]
  },
  {
   "cell_type": "code",
   "execution_count": 25,
   "metadata": {},
   "outputs": [
    {
     "name": "stdout",
     "output_type": "stream",
     "text": [
      "^C\n",
      "Note: you may need to restart the kernel to use updated packages.\n"
     ]
    },
    {
     "name": "stdout",
     "output_type": "stream",
     "text": [
      "Collecting pandas-profiling\n",
      "  Downloading pandas_profiling-3.6.6-py2.py3-none-any.whl.metadata (4.5 kB)\n",
      "Collecting ydata-profiling (from pandas-profiling)\n",
      "  Downloading ydata_profiling-4.9.0-py2.py3-none-any.whl.metadata (20 kB)\n",
      "Collecting scipy<1.14,>=1.4.1 (from ydata-profiling->pandas-profiling)\n",
      "  Downloading scipy-1.13.1-cp310-cp310-win_amd64.whl.metadata (60 kB)\n",
      "     ---------------------------------------- 0.0/60.6 kB ? eta -:--:--\n",
      "     ---------------------------------------- 60.6/60.6 kB 3.4 MB/s eta 0:00:00\n",
      "Requirement already satisfied: pandas!=1.4.0,<3,>1.1 in c:\\users\\admin\\venv\\lib\\site-packages (from ydata-profiling->pandas-profiling) (2.2.2)\n",
      "Collecting matplotlib<3.10,>=3.5 (from ydata-profiling->pandas-profiling)\n",
      "  Using cached matplotlib-3.9.2-cp310-cp310-win_amd64.whl.metadata (11 kB)\n",
      "Collecting pydantic>=2 (from ydata-profiling->pandas-profiling)\n",
      "  Using cached pydantic-2.8.2-py3-none-any.whl.metadata (125 kB)\n",
      "Collecting PyYAML<6.1,>=5.0.0 (from ydata-profiling->pandas-profiling)\n",
      "  Using cached PyYAML-6.0.2-cp310-cp310-win_amd64.whl.metadata (2.1 kB)\n",
      "Requirement already satisfied: jinja2<3.2,>=2.11.1 in c:\\users\\admin\\venv\\lib\\site-packages (from ydata-profiling->pandas-profiling) (3.1.4)\n",
      "Collecting visions<0.7.7,>=0.7.5 (from visions[type_image_path]<0.7.7,>=0.7.5->ydata-profiling->pandas-profiling)\n",
      "  Downloading visions-0.7.6-py3-none-any.whl.metadata (11 kB)\n",
      "Collecting numpy<2,>=1.16.0 (from ydata-profiling->pandas-profiling)\n",
      "  Using cached numpy-1.26.4-cp310-cp310-win_amd64.whl.metadata (61 kB)\n",
      "Collecting htmlmin==0.1.12 (from ydata-profiling->pandas-profiling)\n",
      "  Downloading htmlmin-0.1.12.tar.gz (19 kB)\n",
      "  Preparing metadata (setup.py): started\n",
      "  Preparing metadata (setup.py): finished with status 'done'\n",
      "Collecting phik<0.13,>=0.11.1 (from ydata-profiling->pandas-profiling)\n",
      "  Downloading phik-0.12.4-cp310-cp310-win_amd64.whl.metadata (5.6 kB)\n",
      "Collecting requests<3,>=2.24.0 (from ydata-profiling->pandas-profiling)\n",
      "  Using cached requests-2.32.3-py3-none-any.whl.metadata (4.6 kB)\n",
      "Collecting tqdm<5,>=4.48.2 (from ydata-profiling->pandas-profiling)\n",
      "  Using cached tqdm-4.66.5-py3-none-any.whl.metadata (57 kB)\n",
      "Collecting seaborn<0.14,>=0.10.1 (from ydata-profiling->pandas-profiling)\n",
      "  Using cached seaborn-0.13.2-py3-none-any.whl.metadata (5.4 kB)\n",
      "Collecting multimethod<2,>=1.4 (from ydata-profiling->pandas-profiling)\n",
      "  Downloading multimethod-1.12-py3-none-any.whl.metadata (9.6 kB)\n",
      "Collecting statsmodels<1,>=0.13.2 (from ydata-profiling->pandas-profiling)\n",
      "  Downloading statsmodels-0.14.2-cp310-cp310-win_amd64.whl.metadata (9.5 kB)\n",
      "Collecting typeguard<5,>=3 (from ydata-profiling->pandas-profiling)\n",
      "  Downloading typeguard-4.3.0-py3-none-any.whl.metadata (3.7 kB)\n",
      "Collecting imagehash==4.3.1 (from ydata-profiling->pandas-profiling)\n",
      "  Downloading ImageHash-4.3.1-py2.py3-none-any.whl.metadata (8.0 kB)\n",
      "Collecting wordcloud>=1.9.1 (from ydata-profiling->pandas-profiling)\n",
      "  Downloading wordcloud-1.9.3-cp310-cp310-win_amd64.whl.metadata (3.5 kB)\n",
      "Collecting dacite>=1.8 (from ydata-profiling->pandas-profiling)\n",
      "  Downloading dacite-1.8.1-py3-none-any.whl.metadata (15 kB)\n",
      "Collecting numba<1,>=0.56.0 (from ydata-profiling->pandas-profiling)\n",
      "  Downloading numba-0.60.0-cp310-cp310-win_amd64.whl.metadata (2.8 kB)\n",
      "Collecting PyWavelets (from imagehash==4.3.1->ydata-profiling->pandas-profiling)\n",
      "  Downloading pywavelets-1.7.0-cp310-cp310-win_amd64.whl.metadata (9.0 kB)\n",
      "Collecting pillow (from imagehash==4.3.1->ydata-profiling->pandas-profiling)\n",
      "  Using cached pillow-10.4.0-cp310-cp310-win_amd64.whl.metadata (9.3 kB)\n",
      "Requirement already satisfied: MarkupSafe>=2.0 in c:\\users\\admin\\venv\\lib\\site-packages (from jinja2<3.2,>=2.11.1->ydata-profiling->pandas-profiling) (2.1.5)\n",
      "Collecting contourpy>=1.0.1 (from matplotlib<3.10,>=3.5->ydata-profiling->pandas-profiling)\n",
      "  Downloading contourpy-1.3.0-cp310-cp310-win_amd64.whl.metadata (5.4 kB)\n",
      "Collecting cycler>=0.10 (from matplotlib<3.10,>=3.5->ydata-profiling->pandas-profiling)\n",
      "  Using cached cycler-0.12.1-py3-none-any.whl.metadata (3.8 kB)\n",
      "Collecting fonttools>=4.22.0 (from matplotlib<3.10,>=3.5->ydata-profiling->pandas-profiling)\n",
      "  Using cached fonttools-4.53.1-cp310-cp310-win_amd64.whl.metadata (165 kB)\n",
      "Collecting kiwisolver>=1.3.1 (from matplotlib<3.10,>=3.5->ydata-profiling->pandas-profiling)\n",
      "  Using cached kiwisolver-1.4.5-cp310-cp310-win_amd64.whl.metadata (6.5 kB)\n",
      "Requirement already satisfied: packaging>=20.0 in c:\\users\\admin\\venv\\lib\\site-packages (from matplotlib<3.10,>=3.5->ydata-profiling->pandas-profiling) (24.1)\n",
      "Collecting pyparsing>=2.3.1 (from matplotlib<3.10,>=3.5->ydata-profiling->pandas-profiling)\n",
      "  Downloading pyparsing-3.1.4-py3-none-any.whl.metadata (5.1 kB)\n",
      "Requirement already satisfied: python-dateutil>=2.7 in c:\\users\\admin\\venv\\lib\\site-packages (from matplotlib<3.10,>=3.5->ydata-profiling->pandas-profiling) (2.9.0)\n",
      "Collecting llvmlite<0.44,>=0.43.0dev0 (from numba<1,>=0.56.0->ydata-profiling->pandas-profiling)\n",
      "  Downloading llvmlite-0.43.0-cp310-cp310-win_amd64.whl.metadata (4.9 kB)\n",
      "Requirement already satisfied: pytz>=2020.1 in c:\\users\\admin\\venv\\lib\\site-packages (from pandas!=1.4.0,<3,>1.1->ydata-profiling->pandas-profiling) (2024.1)\n",
      "Requirement already satisfied: tzdata>=2022.7 in c:\\users\\admin\\venv\\lib\\site-packages (from pandas!=1.4.0,<3,>1.1->ydata-profiling->pandas-profiling) (2024.1)\n",
      "Collecting joblib>=0.14.1 (from phik<0.13,>=0.11.1->ydata-profiling->pandas-profiling)\n",
      "  Using cached joblib-1.4.2-py3-none-any.whl.metadata (5.4 kB)\n",
      "Collecting annotated-types>=0.4.0 (from pydantic>=2->ydata-profiling->pandas-profiling)\n",
      "  Using cached annotated_types-0.7.0-py3-none-any.whl.metadata (15 kB)\n",
      "Collecting pydantic-core==2.20.1 (from pydantic>=2->ydata-profiling->pandas-profiling)\n",
      "  Using cached pydantic_core-2.20.1-cp310-none-win_amd64.whl.metadata (6.7 kB)\n",
      "Requirement already satisfied: typing-extensions>=4.6.1 in c:\\users\\admin\\venv\\lib\\site-packages (from pydantic>=2->ydata-profiling->pandas-profiling) (4.12.2)\n",
      "Collecting charset-normalizer<4,>=2 (from requests<3,>=2.24.0->ydata-profiling->pandas-profiling)\n",
      "  Using cached charset_normalizer-3.3.2-cp310-cp310-win_amd64.whl.metadata (34 kB)\n",
      "Collecting idna<4,>=2.5 (from requests<3,>=2.24.0->ydata-profiling->pandas-profiling)\n",
      "  Using cached idna-3.8-py3-none-any.whl.metadata (9.9 kB)\n",
      "Collecting urllib3<3,>=1.21.1 (from requests<3,>=2.24.0->ydata-profiling->pandas-profiling)\n",
      "  Using cached urllib3-2.2.2-py3-none-any.whl.metadata (6.4 kB)\n",
      "Collecting certifi>=2017.4.17 (from requests<3,>=2.24.0->ydata-profiling->pandas-profiling)\n",
      "  Using cached certifi-2024.7.4-py3-none-any.whl.metadata (2.2 kB)\n",
      "Collecting patsy>=0.5.6 (from statsmodels<1,>=0.13.2->ydata-profiling->pandas-profiling)\n",
      "  Downloading patsy-0.5.6-py2.py3-none-any.whl.metadata (3.5 kB)\n",
      "Requirement already satisfied: colorama in c:\\users\\admin\\venv\\lib\\site-packages (from tqdm<5,>=4.48.2->ydata-profiling->pandas-profiling) (0.4.6)\n",
      "Collecting attrs>=19.3.0 (from visions<0.7.7,>=0.7.5->visions[type_image_path]<0.7.7,>=0.7.5->ydata-profiling->pandas-profiling)\n",
      "  Using cached attrs-24.2.0-py3-none-any.whl.metadata (11 kB)\n",
      "Requirement already satisfied: networkx>=2.4 in c:\\users\\admin\\venv\\lib\\site-packages (from visions<0.7.7,>=0.7.5->visions[type_image_path]<0.7.7,>=0.7.5->ydata-profiling->pandas-profiling) (3.3)\n",
      "Requirement already satisfied: six in c:\\users\\admin\\venv\\lib\\site-packages (from patsy>=0.5.6->statsmodels<1,>=0.13.2->ydata-profiling->pandas-profiling) (1.16.0)\n",
      "Downloading pandas_profiling-3.6.6-py2.py3-none-any.whl (324 kB)\n",
      "   ---------------------------------------- 0.0/324.4 kB ? eta -:--:--\n",
      "   ------------------------------------ --- 297.0/324.4 kB 9.2 MB/s eta 0:00:01\n",
      "   ---------------------------------------- 324.4/324.4 kB 5.0 MB/s eta 0:00:00\n",
      "Downloading ydata_profiling-4.9.0-py2.py3-none-any.whl (356 kB)\n",
      "   ---------------------------------------- 0.0/356.2 kB ? eta -:--:--\n",
      "   --------------------------------------  348.2/356.2 kB 10.9 MB/s eta 0:00:01\n",
      "   ---------------------------------------- 356.2/356.2 kB 7.5 MB/s eta 0:00:00\n",
      "Downloading ImageHash-4.3.1-py2.py3-none-any.whl (296 kB)\n",
      "   ---------------------------------------- 0.0/296.5 kB ? eta -:--:--\n",
      "   ---------------------------------------- 296.5/296.5 kB 8.9 MB/s eta 0:00:00\n",
      "Downloading dacite-1.8.1-py3-none-any.whl (14 kB)\n",
      "Using cached matplotlib-3.9.2-cp310-cp310-win_amd64.whl (7.8 MB)\n",
      "Downloading multimethod-1.12-py3-none-any.whl (10 kB)\n",
      "Downloading numba-0.60.0-cp310-cp310-win_amd64.whl (2.7 MB)\n",
      "   ---------------------------------------- 0.0/2.7 MB ? eta -:--:--\n",
      "   --------- ------------------------------ 0.7/2.7 MB 21.1 MB/s eta 0:00:01\n",
      "   ---------------- ----------------------- 1.1/2.7 MB 14.4 MB/s eta 0:00:01\n",
      "   ---------------------- ----------------- 1.5/2.7 MB 12.2 MB/s eta 0:00:01\n",
      "   -------------------------------- ------- 2.2/2.7 MB 11.6 MB/s eta 0:00:01\n",
      "   ---------------------------------------  2.7/2.7 MB 12.3 MB/s eta 0:00:01\n",
      "   ---------------------------------------- 2.7/2.7 MB 10.7 MB/s eta 0:00:00\n",
      "Using cached numpy-1.26.4-cp310-cp310-win_amd64.whl (15.8 MB)\n",
      "Downloading phik-0.12.4-cp310-cp310-win_amd64.whl (666 kB)\n",
      "   ---------------------------------------- 0.0/666.2 kB ? eta -:--:--\n",
      "   --------------------------------- ----- 573.4/666.2 kB 18.2 MB/s eta 0:00:01\n",
      "   --------------------------------------- 666.2/666.2 kB 10.6 MB/s eta 0:00:00\n",
      "Using cached pydantic-2.8.2-py3-none-any.whl (423 kB)\n",
      "Using cached pydantic_core-2.20.1-cp310-none-win_amd64.whl (1.9 MB)\n",
      "Using cached PyYAML-6.0.2-cp310-cp310-win_amd64.whl (161 kB)\n",
      "Using cached requests-2.32.3-py3-none-any.whl (64 kB)\n",
      "Downloading scipy-1.13.1-cp310-cp310-win_amd64.whl (46.2 MB)\n",
      "   ---------------------------------------- 0.0/46.2 MB ? eta -:--:--\n",
      "    --------------------------------------- 0.6/46.2 MB 17.9 MB/s eta 0:00:03\n",
      "   - -------------------------------------- 1.3/46.2 MB 15.8 MB/s eta 0:00:03\n",
      "   - -------------------------------------- 1.8/46.2 MB 14.7 MB/s eta 0:00:04\n",
      "   -- ------------------------------------- 2.5/46.2 MB 14.5 MB/s eta 0:00:04\n",
      "   -- ------------------------------------- 3.3/46.2 MB 14.1 MB/s eta 0:00:04\n",
      "   --- ------------------------------------ 4.0/46.2 MB 14.1 MB/s eta 0:00:04\n",
      "   ---- ----------------------------------- 4.7/46.2 MB 14.2 MB/s eta 0:00:03\n",
      "   ---- ----------------------------------- 5.4/46.2 MB 14.4 MB/s eta 0:00:03\n",
      "   ----- ---------------------------------- 6.2/46.2 MB 14.1 MB/s eta 0:00:03\n",
      "   ----- ---------------------------------- 6.9/46.2 MB 14.2 MB/s eta 0:00:03\n",
      "   ------ --------------------------------- 7.6/46.2 MB 14.3 MB/s eta 0:00:03\n",
      "   ------- -------------------------------- 8.3/46.2 MB 14.4 MB/s eta 0:00:03\n",
      "   ------- -------------------------------- 9.0/46.2 MB 14.5 MB/s eta 0:00:03\n",
      "   -------- ------------------------------- 9.8/46.2 MB 14.5 MB/s eta 0:00:03\n",
      "   --------- ------------------------------ 10.5/46.2 MB 14.2 MB/s eta 0:00:03\n",
      "   --------- ------------------------------ 10.8/46.2 MB 13.6 MB/s eta 0:00:03\n",
      "   --------- ------------------------------ 11.4/46.2 MB 13.9 MB/s eta 0:00:03\n",
      "   ---------- ----------------------------- 11.6/46.2 MB 13.4 MB/s eta 0:00:03\n",
      "   ---------- ----------------------------- 11.8/46.2 MB 13.1 MB/s eta 0:00:03\n",
      "   ---------- ----------------------------- 12.2/46.2 MB 12.6 MB/s eta 0:00:03\n",
      "   ---------- ----------------------------- 12.2/46.2 MB 12.4 MB/s eta 0:00:03\n",
      "   ---------- ----------------------------- 12.5/46.2 MB 11.7 MB/s eta 0:00:03\n",
      "   ----------- ---------------------------- 12.9/46.2 MB 11.3 MB/s eta 0:00:03\n",
      "   ----------- ---------------------------- 13.1/46.2 MB 10.9 MB/s eta 0:00:04\n",
      "   ----------- ---------------------------- 13.1/46.2 MB 10.9 MB/s eta 0:00:04\n",
      "   ----------- ---------------------------- 13.5/46.2 MB 10.4 MB/s eta 0:00:04\n",
      "   ----------- ---------------------------- 13.6/46.2 MB 10.2 MB/s eta 0:00:04\n",
      "   ------------ --------------------------- 13.9/46.2 MB 9.9 MB/s eta 0:00:04\n",
      "   ------------ --------------------------- 14.1/46.2 MB 9.5 MB/s eta 0:00:04\n",
      "   ------------ --------------------------- 14.6/46.2 MB 9.2 MB/s eta 0:00:04\n",
      "   ------------ --------------------------- 14.7/46.2 MB 8.8 MB/s eta 0:00:04\n",
      "   ------------- -------------------------- 15.0/46.2 MB 8.6 MB/s eta 0:00:04\n",
      "   ------------- -------------------------- 15.2/46.2 MB 8.5 MB/s eta 0:00:04\n",
      "   ------------- -------------------------- 15.5/46.2 MB 8.3 MB/s eta 0:00:04\n",
      "   ------------- -------------------------- 15.8/46.2 MB 8.0 MB/s eta 0:00:04\n",
      "   ------------- -------------------------- 16.0/46.2 MB 7.7 MB/s eta 0:00:04\n",
      "   -------------- ------------------------- 16.3/46.2 MB 7.4 MB/s eta 0:00:05\n",
      "   -------------- ------------------------- 16.5/46.2 MB 7.4 MB/s eta 0:00:05\n",
      "   -------------- ------------------------- 16.7/46.2 MB 7.2 MB/s eta 0:00:05\n",
      "   -------------- ------------------------- 17.0/46.2 MB 7.0 MB/s eta 0:00:05\n",
      "   -------------- ------------------------- 17.3/46.2 MB 6.8 MB/s eta 0:00:05\n",
      "   --------------- ------------------------ 17.7/46.2 MB 6.5 MB/s eta 0:00:05\n",
      "   --------------- ------------------------ 18.1/46.2 MB 6.4 MB/s eta 0:00:05\n",
      "   --------------- ------------------------ 18.4/46.2 MB 6.2 MB/s eta 0:00:05\n",
      "   ---------------- ----------------------- 18.8/46.2 MB 6.1 MB/s eta 0:00:05\n",
      "   ---------------- ----------------------- 19.1/46.2 MB 6.0 MB/s eta 0:00:05\n",
      "   ---------------- ----------------------- 19.5/46.2 MB 5.8 MB/s eta 0:00:05\n",
      "   ----------------- ---------------------- 19.7/46.2 MB 5.6 MB/s eta 0:00:05\n",
      "   ----------------- ---------------------- 20.1/46.2 MB 5.5 MB/s eta 0:00:05\n",
      "   ----------------- ---------------------- 20.2/46.2 MB 5.3 MB/s eta 0:00:05\n",
      "   ----------------- ---------------------- 20.4/46.2 MB 5.2 MB/s eta 0:00:06\n",
      "   ----------------- ---------------------- 20.6/46.2 MB 5.0 MB/s eta 0:00:06\n",
      "   ------------------ --------------------- 20.8/46.2 MB 5.0 MB/s eta 0:00:06\n",
      "   ------------------ --------------------- 21.0/46.2 MB 4.9 MB/s eta 0:00:06\n",
      "   ------------------ --------------------- 21.2/46.2 MB 4.8 MB/s eta 0:00:06\n",
      "   ------------------ --------------------- 21.4/46.2 MB 4.7 MB/s eta 0:00:06\n",
      "   ------------------ --------------------- 21.6/46.2 MB 4.6 MB/s eta 0:00:06\n",
      "   ------------------ --------------------- 21.8/46.2 MB 4.5 MB/s eta 0:00:06\n",
      "   ------------------- -------------------- 22.1/46.2 MB 4.5 MB/s eta 0:00:06\n",
      "   ------------------- -------------------- 22.3/46.2 MB 4.5 MB/s eta 0:00:06\n",
      "   ------------------- -------------------- 22.5/46.2 MB 4.5 MB/s eta 0:00:06\n",
      "   ------------------- -------------------- 22.8/46.2 MB 4.4 MB/s eta 0:00:06\n",
      "   ------------------- -------------------- 23.0/46.2 MB 4.3 MB/s eta 0:00:06\n",
      "   -------------------- ------------------- 23.2/46.2 MB 4.3 MB/s eta 0:00:06\n",
      "   -------------------- ------------------- 23.4/46.2 MB 4.4 MB/s eta 0:00:06\n",
      "   -------------------- ------------------- 23.7/46.2 MB 4.3 MB/s eta 0:00:06\n",
      "   -------------------- ------------------- 23.9/46.2 MB 4.3 MB/s eta 0:00:06\n",
      "   -------------------- ------------------- 24.2/46.2 MB 4.3 MB/s eta 0:00:06\n",
      "   --------------------- ------------------ 24.5/46.2 MB 4.3 MB/s eta 0:00:06\n",
      "   --------------------- ------------------ 24.8/46.2 MB 4.2 MB/s eta 0:00:06\n",
      "   --------------------- ------------------ 25.0/46.2 MB 4.2 MB/s eta 0:00:06\n",
      "   --------------------- ------------------ 25.3/46.2 MB 4.2 MB/s eta 0:00:05\n",
      "   ---------------------- ----------------- 25.6/46.2 MB 4.1 MB/s eta 0:00:05\n",
      "   ---------------------- ----------------- 25.8/46.2 MB 4.1 MB/s eta 0:00:05\n",
      "   ---------------------- ----------------- 26.1/46.2 MB 4.1 MB/s eta 0:00:05\n",
      "   ---------------------- ----------------- 26.4/46.2 MB 4.1 MB/s eta 0:00:05\n",
      "   ----------------------- ---------------- 26.7/46.2 MB 4.1 MB/s eta 0:00:05\n",
      "   ----------------------- ---------------- 26.9/46.2 MB 4.1 MB/s eta 0:00:05\n",
      "   ----------------------- ---------------- 27.2/46.2 MB 4.1 MB/s eta 0:00:05\n",
      "   ----------------------- ---------------- 27.4/46.2 MB 4.1 MB/s eta 0:00:05\n",
      "   ----------------------- ---------------- 27.7/46.2 MB 4.1 MB/s eta 0:00:05\n",
      "   ------------------------ --------------- 28.3/46.2 MB 4.1 MB/s eta 0:00:05\n",
      "   ------------------------ --------------- 28.5/46.2 MB 4.1 MB/s eta 0:00:05\n",
      "   ------------------------ --------------- 28.7/46.2 MB 4.1 MB/s eta 0:00:05\n",
      "   ------------------------- -------------- 28.9/46.2 MB 4.1 MB/s eta 0:00:05\n",
      "   ------------------------- -------------- 29.2/46.2 MB 4.1 MB/s eta 0:00:05\n",
      "   ------------------------- -------------- 29.4/46.2 MB 4.1 MB/s eta 0:00:05\n",
      "   ------------------------- -------------- 29.6/46.2 MB 4.1 MB/s eta 0:00:05\n",
      "   ------------------------- -------------- 29.9/46.2 MB 4.1 MB/s eta 0:00:04\n",
      "   -------------------------- ------------- 30.2/46.2 MB 4.1 MB/s eta 0:00:04\n",
      "   -------------------------- ------------- 30.5/46.2 MB 4.2 MB/s eta 0:00:04\n",
      "   -------------------------- ------------- 30.7/46.2 MB 4.3 MB/s eta 0:00:04\n",
      "   -------------------------- ------------- 31.1/46.2 MB 4.3 MB/s eta 0:00:04\n",
      "   --------------------------- ------------ 31.4/46.2 MB 4.4 MB/s eta 0:00:04\n",
      "   --------------------------- ------------ 31.7/46.2 MB 4.5 MB/s eta 0:00:04\n",
      "   --------------------------- ------------ 31.9/46.2 MB 4.5 MB/s eta 0:00:04\n",
      "   --------------------------- ------------ 32.3/46.2 MB 4.6 MB/s eta 0:00:04\n",
      "   ---------------------------- ----------- 32.6/46.2 MB 4.6 MB/s eta 0:00:03\n",
      "   ---------------------------- ----------- 32.8/46.2 MB 4.7 MB/s eta 0:00:03\n",
      "   ---------------------------- ----------- 33.1/46.2 MB 4.8 MB/s eta 0:00:03\n",
      "   ----------------------------- ---------- 33.5/46.2 MB 4.9 MB/s eta 0:00:03\n",
      "   ----------------------------- ---------- 33.7/46.2 MB 4.9 MB/s eta 0:00:03\n",
      "   ----------------------------- ---------- 33.7/46.2 MB 4.9 MB/s eta 0:00:03\n",
      "   ----------------------------- ---------- 33.7/46.2 MB 4.9 MB/s eta 0:00:03\n",
      "   ----------------------------- ---------- 33.7/46.2 MB 4.9 MB/s eta 0:00:03\n",
      "   ----------------------------- ---------- 33.8/46.2 MB 4.4 MB/s eta 0:00:03\n",
      "   ----------------------------- ---------- 33.8/46.2 MB 4.3 MB/s eta 0:00:03\n",
      "   ----------------------------- ---------- 33.9/46.2 MB 4.3 MB/s eta 0:00:03\n",
      "   ----------------------------- ---------- 34.0/46.2 MB 4.2 MB/s eta 0:00:03\n",
      "   ----------------------------- ---------- 34.1/46.2 MB 4.1 MB/s eta 0:00:03\n",
      "   ----------------------------- ---------- 34.4/46.2 MB 4.2 MB/s eta 0:00:03\n",
      "   ------------------------------ --------- 34.7/46.2 MB 4.2 MB/s eta 0:00:03\n",
      "   ------------------------------ --------- 34.9/46.2 MB 4.2 MB/s eta 0:00:03\n",
      "   ------------------------------ --------- 35.3/46.2 MB 4.2 MB/s eta 0:00:03\n",
      "   ------------------------------ --------- 35.6/46.2 MB 4.2 MB/s eta 0:00:03\n",
      "   ------------------------------ --------- 35.8/46.2 MB 4.2 MB/s eta 0:00:03\n",
      "   ------------------------------- -------- 36.1/46.2 MB 4.2 MB/s eta 0:00:03\n",
      "   ------------------------------- -------- 36.4/46.2 MB 4.2 MB/s eta 0:00:03\n",
      "   ------------------------------- -------- 36.7/46.2 MB 4.2 MB/s eta 0:00:03\n",
      "   -------------------------------- ------- 37.0/46.2 MB 4.3 MB/s eta 0:00:03\n",
      "   -------------------------------- ------- 37.3/46.2 MB 4.3 MB/s eta 0:00:03\n",
      "   -------------------------------- ------- 37.6/46.2 MB 4.3 MB/s eta 0:00:03\n",
      "   -------------------------------- ------- 37.9/46.2 MB 4.2 MB/s eta 0:00:02\n",
      "   -------------------------------- ------- 38.1/46.2 MB 4.3 MB/s eta 0:00:02\n",
      "   --------------------------------- ------ 38.4/46.2 MB 4.2 MB/s eta 0:00:02\n",
      "   --------------------------------- ------ 38.6/46.2 MB 4.2 MB/s eta 0:00:02\n",
      "   --------------------------------- ------ 38.9/46.2 MB 4.2 MB/s eta 0:00:02\n",
      "   --------------------------------- ------ 39.2/46.2 MB 4.3 MB/s eta 0:00:02\n",
      "   ---------------------------------- ----- 39.5/46.2 MB 4.2 MB/s eta 0:00:02\n",
      "   ---------------------------------- ----- 39.8/46.2 MB 4.3 MB/s eta 0:00:02\n",
      "   ---------------------------------- ----- 40.2/46.2 MB 4.3 MB/s eta 0:00:02\n",
      "   ----------------------------------- ---- 40.6/46.2 MB 4.2 MB/s eta 0:00:02\n",
      "   ----------------------------------- ---- 40.8/46.2 MB 4.2 MB/s eta 0:00:02\n",
      "   ----------------------------------- ---- 41.3/46.2 MB 4.3 MB/s eta 0:00:02\n",
      "   ------------------------------------ --- 41.7/46.2 MB 4.3 MB/s eta 0:00:02\n",
      "   ------------------------------------ --- 42.0/46.2 MB 4.3 MB/s eta 0:00:01\n",
      "   ------------------------------------ --- 42.3/46.2 MB 4.3 MB/s eta 0:00:01\n",
      "   ------------------------------------ --- 42.7/46.2 MB 4.3 MB/s eta 0:00:01\n",
      "   ------------------------------------- -- 43.0/46.2 MB 4.3 MB/s eta 0:00:01\n",
      "   ------------------------------------- -- 43.2/46.2 MB 4.2 MB/s eta 0:00:01\n",
      "   ------------------------------------- -- 43.6/46.2 MB 4.2 MB/s eta 0:00:01\n",
      "   -------------------------------------- - 43.9/46.2 MB 4.3 MB/s eta 0:00:01\n",
      "   -------------------------------------- - 44.3/46.2 MB 5.1 MB/s eta 0:00:01\n",
      "   -------------------------------------- - 44.8/46.2 MB 5.2 MB/s eta 0:00:01\n",
      "   ---------------------------------------  45.1/46.2 MB 5.2 MB/s eta 0:00:01\n",
      "   ---------------------------------------  45.4/46.2 MB 5.2 MB/s eta 0:00:01\n",
      "   ---------------------------------------  45.7/46.2 MB 5.2 MB/s eta 0:00:01\n",
      "   ---------------------------------------  46.0/46.2 MB 5.3 MB/s eta 0:00:01\n",
      "   ---------------------------------------  46.2/46.2 MB 5.3 MB/s eta 0:00:01\n",
      "   ---------------------------------------  46.2/46.2 MB 5.3 MB/s eta 0:00:01\n",
      "   ---------------------------------------  46.2/46.2 MB 5.3 MB/s eta 0:00:01\n",
      "   ---------------------------------------  46.2/46.2 MB 5.3 MB/s eta 0:00:01\n",
      "   ---------------------------------------  46.2/46.2 MB 5.3 MB/s eta 0:00:01\n",
      "   ---------------------------------------- 46.2/46.2 MB 4.7 MB/s eta 0:00:00\n",
      "Using cached seaborn-0.13.2-py3-none-any.whl (294 kB)\n",
      "Downloading statsmodels-0.14.2-cp310-cp310-win_amd64.whl (9.8 MB)\n",
      "   ---------------------------------------- 0.0/9.8 MB ? eta -:--:--\n",
      "    --------------------------------------- 0.2/9.8 MB 4.9 MB/s eta 0:00:02\n",
      "   - -------------------------------------- 0.5/9.8 MB 5.1 MB/s eta 0:00:02\n",
      "   -- ------------------------------------- 0.7/9.8 MB 5.5 MB/s eta 0:00:02\n",
      "   --- ------------------------------------ 0.9/9.8 MB 4.9 MB/s eta 0:00:02\n",
      "   ---- ----------------------------------- 1.2/9.8 MB 5.4 MB/s eta 0:00:02\n",
      "   ----- ---------------------------------- 1.4/9.8 MB 5.4 MB/s eta 0:00:02\n",
      "   ------ --------------------------------- 1.7/9.8 MB 5.1 MB/s eta 0:00:02\n",
      "   ------- -------------------------------- 2.0/9.8 MB 5.2 MB/s eta 0:00:02\n",
      "   --------- ------------------------------ 2.3/9.8 MB 5.4 MB/s eta 0:00:02\n",
      "   ---------- ----------------------------- 2.6/9.8 MB 5.5 MB/s eta 0:00:02\n",
      "   ----------- ---------------------------- 2.9/9.8 MB 5.6 MB/s eta 0:00:02\n",
      "   ------------ --------------------------- 3.2/9.8 MB 5.6 MB/s eta 0:00:02\n",
      "   -------------- ------------------------- 3.5/9.8 MB 5.7 MB/s eta 0:00:02\n",
      "   --------------- ------------------------ 3.8/9.8 MB 5.8 MB/s eta 0:00:02\n",
      "   ---------------- ----------------------- 4.2/9.8 MB 5.9 MB/s eta 0:00:01\n",
      "   ------------------ --------------------- 4.5/9.8 MB 5.9 MB/s eta 0:00:01\n",
      "   ------------------- -------------------- 4.9/9.8 MB 6.0 MB/s eta 0:00:01\n",
      "   --------------------- ------------------ 5.2/9.8 MB 6.1 MB/s eta 0:00:01\n",
      "   ---------------------- ----------------- 5.6/9.8 MB 6.0 MB/s eta 0:00:01\n",
      "   ----------------------- ---------------- 5.9/9.8 MB 6.2 MB/s eta 0:00:01\n",
      "   -------------------------- ------------- 6.6/9.8 MB 6.2 MB/s eta 0:00:01\n",
      "   ---------------------------- ----------- 7.0/9.8 MB 6.3 MB/s eta 0:00:01\n",
      "   ----------------------------- ---------- 7.3/9.8 MB 6.3 MB/s eta 0:00:01\n",
      "   ------------------------------- -------- 7.9/9.8 MB 6.4 MB/s eta 0:00:01\n",
      "   --------------------------------- ------ 8.2/9.8 MB 6.4 MB/s eta 0:00:01\n",
      "   ----------------------------------- ---- 8.7/9.8 MB 6.5 MB/s eta 0:00:01\n",
      "   ------------------------------------- -- 9.1/9.8 MB 6.5 MB/s eta 0:00:01\n",
      "   -------------------------------------- - 9.6/9.8 MB 6.5 MB/s eta 0:00:01\n",
      "   ---------------------------------------  9.8/9.8 MB 6.6 MB/s eta 0:00:01\n",
      "   ---------------------------------------  9.8/9.8 MB 6.6 MB/s eta 0:00:01\n",
      "   ---------------------------------------- 9.8/9.8 MB 6.1 MB/s eta 0:00:00\n",
      "Using cached tqdm-4.66.5-py3-none-any.whl (78 kB)\n",
      "Downloading typeguard-4.3.0-py3-none-any.whl (35 kB)\n",
      "Downloading visions-0.7.6-py3-none-any.whl (104 kB)\n",
      "   ---------------------------------------- 0.0/104.8 kB ? eta -:--:--\n",
      "   ---------------------------------------- 104.8/104.8 kB 5.9 MB/s eta 0:00:00\n",
      "Downloading wordcloud-1.9.3-cp310-cp310-win_amd64.whl (299 kB)\n",
      "   ---------------------------------------- 0.0/300.0 kB ? eta -:--:--\n",
      "   ---------------------------------------  297.0/300.0 kB 9.2 MB/s eta 0:00:01\n",
      "   ---------------------------------------- 300.0/300.0 kB 6.2 MB/s eta 0:00:00\n",
      "Using cached annotated_types-0.7.0-py3-none-any.whl (13 kB)\n",
      "Using cached attrs-24.2.0-py3-none-any.whl (63 kB)\n",
      "Using cached certifi-2024.7.4-py3-none-any.whl (162 kB)\n",
      "Using cached charset_normalizer-3.3.2-cp310-cp310-win_amd64.whl (100 kB)\n",
      "Downloading contourpy-1.3.0-cp310-cp310-win_amd64.whl (216 kB)\n",
      "   ---------------------------------------- 0.0/216.0 kB ? eta -:--:--\n",
      "   ---------------------------------------  215.0/216.0 kB 6.6 MB/s eta 0:00:01\n",
      "   ---------------------------------------- 216.0/216.0 kB 4.4 MB/s eta 0:00:00\n",
      "Using cached cycler-0.12.1-py3-none-any.whl (8.3 kB)\n",
      "Using cached fonttools-4.53.1-cp310-cp310-win_amd64.whl (2.2 MB)\n",
      "Using cached idna-3.8-py3-none-any.whl (66 kB)\n",
      "Using cached joblib-1.4.2-py3-none-any.whl (301 kB)\n",
      "Using cached kiwisolver-1.4.5-cp310-cp310-win_amd64.whl (56 kB)\n",
      "Downloading llvmlite-0.43.0-cp310-cp310-win_amd64.whl (28.1 MB)\n",
      "   ---------------------------------------- 0.0/28.1 MB ? eta -:--:--\n",
      "    --------------------------------------- 0.4/28.1 MB 7.4 MB/s eta 0:00:04\n",
      "    --------------------------------------- 0.6/28.1 MB 6.8 MB/s eta 0:00:05\n",
      "   - -------------------------------------- 0.9/28.1 MB 6.4 MB/s eta 0:00:05\n",
      "   - -------------------------------------- 1.2/28.1 MB 6.2 MB/s eta 0:00:05\n",
      "   -- ------------------------------------- 1.5/28.1 MB 6.0 MB/s eta 0:00:05\n",
      "   -- ------------------------------------- 1.8/28.1 MB 5.6 MB/s eta 0:00:05\n",
      "   -- ------------------------------------- 2.0/28.1 MB 5.3 MB/s eta 0:00:05\n",
      "   --- ------------------------------------ 2.4/28.1 MB 5.2 MB/s eta 0:00:05\n",
      "   --- ------------------------------------ 2.6/28.1 MB 5.2 MB/s eta 0:00:05\n",
      "   ---- ----------------------------------- 2.9/28.1 MB 5.1 MB/s eta 0:00:05\n",
      "   ---- ----------------------------------- 3.2/28.1 MB 5.2 MB/s eta 0:00:05\n",
      "   ---- ----------------------------------- 3.5/28.1 MB 5.2 MB/s eta 0:00:05\n",
      "   ----- ---------------------------------- 3.7/28.1 MB 5.3 MB/s eta 0:00:05\n",
      "   ----- ---------------------------------- 4.1/28.1 MB 5.4 MB/s eta 0:00:05\n",
      "   ------ --------------------------------- 4.4/28.1 MB 5.4 MB/s eta 0:00:05\n",
      "   ------ --------------------------------- 4.8/28.1 MB 5.6 MB/s eta 0:00:05\n",
      "   ------- -------------------------------- 5.2/28.1 MB 5.2 MB/s eta 0:00:05\n",
      "   -------- ------------------------------- 5.8/28.1 MB 5.5 MB/s eta 0:00:05\n",
      "   -------- ------------------------------- 6.0/28.1 MB 5.4 MB/s eta 0:00:05\n",
      "   -------- ------------------------------- 6.3/28.1 MB 5.5 MB/s eta 0:00:04\n",
      "   --------- ------------------------------ 6.7/28.1 MB 5.5 MB/s eta 0:00:04\n",
      "   --------- ------------------------------ 7.0/28.1 MB 5.6 MB/s eta 0:00:04\n",
      "   ---------- ----------------------------- 7.3/28.1 MB 5.6 MB/s eta 0:00:04\n",
      "   ---------- ----------------------------- 7.6/28.1 MB 5.6 MB/s eta 0:00:04\n",
      "   ----------- ---------------------------- 8.0/28.1 MB 5.7 MB/s eta 0:00:04\n",
      "   ----------- ---------------------------- 8.4/28.1 MB 5.7 MB/s eta 0:00:04\n",
      "   ------------ --------------------------- 8.8/28.1 MB 5.8 MB/s eta 0:00:04\n",
      "   ------------- -------------------------- 9.2/28.1 MB 5.8 MB/s eta 0:00:04\n",
      "   ------------- -------------------------- 9.6/28.1 MB 5.9 MB/s eta 0:00:04\n",
      "   -------------- ------------------------- 10.0/28.1 MB 5.9 MB/s eta 0:00:04\n",
      "   -------------- ------------------------- 10.3/28.1 MB 6.0 MB/s eta 0:00:03\n",
      "   --------------- ------------------------ 10.6/28.1 MB 6.0 MB/s eta 0:00:03\n",
      "   --------------- ------------------------ 11.1/28.1 MB 6.1 MB/s eta 0:00:03\n",
      "   ---------------- ----------------------- 11.6/28.1 MB 6.1 MB/s eta 0:00:03\n",
      "   ----------------- ---------------------- 12.0/28.1 MB 6.2 MB/s eta 0:00:03\n",
      "   ----------------- ---------------------- 12.6/28.1 MB 6.4 MB/s eta 0:00:03\n",
      "   ------------------ --------------------- 13.1/28.1 MB 6.6 MB/s eta 0:00:03\n",
      "   ------------------- -------------------- 13.5/28.1 MB 6.7 MB/s eta 0:00:03\n",
      "   ------------------- -------------------- 13.9/28.1 MB 6.6 MB/s eta 0:00:03\n",
      "   -------------------- ------------------- 14.4/28.1 MB 6.7 MB/s eta 0:00:03\n",
      "   --------------------- ------------------ 14.8/28.1 MB 6.6 MB/s eta 0:00:03\n",
      "   --------------------- ------------------ 15.1/28.1 MB 6.6 MB/s eta 0:00:02\n",
      "   --------------------- ------------------ 15.5/28.1 MB 7.0 MB/s eta 0:00:02\n",
      "   ---------------------- ----------------- 15.8/28.1 MB 6.7 MB/s eta 0:00:02\n",
      "   ----------------------- ---------------- 16.6/28.1 MB 6.7 MB/s eta 0:00:02\n",
      "   ------------------------ --------------- 17.0/28.1 MB 6.7 MB/s eta 0:00:02\n",
      "   ------------------------ --------------- 17.4/28.1 MB 6.7 MB/s eta 0:00:02\n",
      "   ------------------------- -------------- 17.9/28.1 MB 6.7 MB/s eta 0:00:02\n",
      "   ------------------------- -------------- 18.2/28.1 MB 6.8 MB/s eta 0:00:02\n",
      "   -------------------------- ------------- 18.6/28.1 MB 6.7 MB/s eta 0:00:02\n",
      "   --------------------------- ------------ 19.2/28.1 MB 6.8 MB/s eta 0:00:02\n",
      "   ---------------------------- ----------- 19.7/28.1 MB 6.7 MB/s eta 0:00:02\n",
      "   ---------------------------- ----------- 20.1/28.1 MB 6.7 MB/s eta 0:00:02\n",
      "   ----------------------------- ---------- 20.5/28.1 MB 6.7 MB/s eta 0:00:02\n",
      "   ----------------------------- ---------- 20.9/28.1 MB 6.8 MB/s eta 0:00:02\n",
      "   ------------------------------ --------- 21.2/28.1 MB 6.6 MB/s eta 0:00:02\n",
      "   ------------------------------ --------- 21.5/28.1 MB 6.6 MB/s eta 0:00:02\n",
      "   ------------------------------- -------- 21.8/28.1 MB 6.6 MB/s eta 0:00:01\n",
      "   ------------------------------- -------- 22.3/28.1 MB 6.6 MB/s eta 0:00:01\n",
      "   -------------------------------- ------- 22.6/28.1 MB 6.5 MB/s eta 0:00:01\n",
      "   -------------------------------- ------- 22.9/28.1 MB 6.5 MB/s eta 0:00:01\n",
      "   --------------------------------- ------ 23.2/28.1 MB 6.5 MB/s eta 0:00:01\n",
      "   --------------------------------- ------ 23.6/28.1 MB 6.4 MB/s eta 0:00:01\n",
      "   ---------------------------------- ----- 24.0/28.1 MB 6.5 MB/s eta 0:00:01\n",
      "   ---------------------------------- ----- 24.5/28.1 MB 6.5 MB/s eta 0:00:01\n",
      "   ----------------------------------- ---- 24.9/28.1 MB 6.6 MB/s eta 0:00:01\n",
      "   ----------------------------------- ---- 25.3/28.1 MB 6.7 MB/s eta 0:00:01\n",
      "   ------------------------------------ --- 25.8/28.1 MB 6.9 MB/s eta 0:00:01\n",
      "   ------------------------------------- -- 26.3/28.1 MB 7.3 MB/s eta 0:00:01\n",
      "   ------------------------------------- -- 26.7/28.1 MB 7.1 MB/s eta 0:00:01\n",
      "   -------------------------------------- - 27.1/28.1 MB 7.3 MB/s eta 0:00:01\n",
      "   ---------------------------------------  27.6/28.1 MB 7.4 MB/s eta 0:00:01\n",
      "   ---------------------------------------  28.0/28.1 MB 7.4 MB/s eta 0:00:01\n",
      "   ---------------------------------------  28.1/28.1 MB 7.4 MB/s eta 0:00:01\n",
      "   ---------------------------------------  28.1/28.1 MB 7.4 MB/s eta 0:00:01\n",
      "   ---------------------------------------  28.1/28.1 MB 7.4 MB/s eta 0:00:01\n",
      "   ---------------------------------------- 28.1/28.1 MB 6.7 MB/s eta 0:00:00\n",
      "Downloading patsy-0.5.6-py2.py3-none-any.whl (233 kB)\n",
      "   ---------------------------------------- 0.0/233.9 kB ? eta -:--:--\n",
      "   ---------------------------------------- 233.9/233.9 kB 7.2 MB/s eta 0:00:00\n",
      "Using cached pillow-10.4.0-cp310-cp310-win_amd64.whl (2.6 MB)\n",
      "Downloading pyparsing-3.1.4-py3-none-any.whl (104 kB)\n",
      "   ---------------------------------------- 0.0/104.1 kB ? eta -:--:--\n",
      "   ---------------------------------------- 104.1/104.1 kB 5.9 MB/s eta 0:00:00\n",
      "Using cached urllib3-2.2.2-py3-none-any.whl (121 kB)\n",
      "Downloading pywavelets-1.7.0-cp310-cp310-win_amd64.whl (4.3 MB)\n",
      "   ---------------------------------------- 0.0/4.3 MB ? eta -:--:--\n",
      "   ---- ----------------------------------- 0.4/4.3 MB 13.5 MB/s eta 0:00:01\n",
      "   -------- ------------------------------- 0.9/4.3 MB 11.0 MB/s eta 0:00:01\n",
      "   ------------ --------------------------- 1.3/4.3 MB 11.5 MB/s eta 0:00:01\n",
      "   --------------- ------------------------ 1.7/4.3 MB 9.8 MB/s eta 0:00:01\n",
      "   -------------------- ------------------- 2.2/4.3 MB 10.1 MB/s eta 0:00:01\n",
      "   ------------------------- -------------- 2.7/4.3 MB 9.4 MB/s eta 0:00:01\n",
      "   ----------------------------- ---------- 3.1/4.3 MB 9.4 MB/s eta 0:00:01\n",
      "   ---------------------------------- ----- 3.6/4.3 MB 9.3 MB/s eta 0:00:01\n",
      "   -------------------------------------- - 4.1/4.3 MB 9.4 MB/s eta 0:00:01\n",
      "   ---------------------------------------  4.2/4.3 MB 9.4 MB/s eta 0:00:01\n",
      "   ---------------------------------------- 4.3/4.3 MB 8.5 MB/s eta 0:00:00\n",
      "Building wheels for collected packages: htmlmin\n",
      "  Building wheel for htmlmin (setup.py): started\n",
      "  Building wheel for htmlmin (setup.py): finished with status 'done'\n",
      "  Created wheel for htmlmin: filename=htmlmin-0.1.12-py3-none-any.whl size=27092 sha256=8443f7d8706b69c88a3670ab0543ce57be56ad995eaccb12e6c262f5a916785a\n",
      "  Stored in directory: c:\\users\\admin\\appdata\\local\\pip\\cache\\wheels\\dd\\91\\29\\a79cecb328d01739e64017b6fb9a1ab9d8cb1853098ec5966d\n",
      "Successfully built htmlmin\n",
      "Installing collected packages: htmlmin, urllib3, typeguard, tqdm, PyYAML, pyparsing, pydantic-core, pillow, numpy, multimethod, llvmlite, kiwisolver, joblib, idna, fonttools, dacite, cycler, charset-normalizer, certifi, attrs, annotated-types, scipy, requests, PyWavelets, pydantic, patsy, numba, contourpy, visions, statsmodels, matplotlib, imagehash, wordcloud, seaborn, phik, ydata-profiling, pandas-profiling\n",
      "  Attempting uninstall: numpy\n",
      "    Found existing installation: numpy 2.1.0\n",
      "    Uninstalling numpy-2.1.0:\n",
      "      Successfully uninstalled numpy-2.1.0\n",
      "Successfully installed PyWavelets-1.7.0 PyYAML-6.0.2 annotated-types-0.7.0 attrs-24.2.0 certifi-2024.7.4 charset-normalizer-3.3.2 contourpy-1.3.0 cycler-0.12.1 dacite-1.8.1 fonttools-4.53.1 htmlmin-0.1.12 idna-3.8 imagehash-4.3.1 joblib-1.4.2 kiwisolver-1.4.5 llvmlite-0.43.0 matplotlib-3.9.2 multimethod-1.12 numba-0.60.0 numpy-1.26.4 pandas-profiling-3.6.6 patsy-0.5.6 phik-0.12.4 pillow-10.4.0 pydantic-2.8.2 pydantic-core-2.20.1 pyparsing-3.1.4 requests-2.32.3 scipy-1.13.1 seaborn-0.13.2 statsmodels-0.14.2 tqdm-4.66.5 typeguard-4.3.0 urllib3-2.2.2 visions-0.7.6 wordcloud-1.9.3 ydata-profiling-4.9.0\n"
     ]
    },
    {
     "name": "stderr",
     "output_type": "stream",
     "text": [
      "WARNING: visions 0.7.6 does not provide the extra 'type-image-path'\n",
      "  WARNING: Failed to remove contents in a temporary directory 'C:\\Users\\Admin\\venv\\Lib\\site-packages\\~umpy.libs'.\n",
      "  You can safely remove it manually.\n",
      "  WARNING: Failed to remove contents in a temporary directory 'C:\\Users\\Admin\\venv\\Lib\\site-packages\\~umpy'.\n",
      "  You can safely remove it manually.\n"
     ]
    }
   ],
   "source": [
    "pip install pandas-profiling\n"
   ]
  },
  {
   "cell_type": "code",
   "execution_count": 33,
   "metadata": {},
   "outputs": [
    {
     "ename": "PydanticImportError",
     "evalue": "`BaseSettings` has been moved to the `pydantic-settings` package. See https://docs.pydantic.dev/2.8/migration/#basesettings-has-moved-to-pydantic-settings for more details.\n\nFor further information visit https://errors.pydantic.dev/2.8/u/import-error",
     "output_type": "error",
     "traceback": [
      "\u001b[1;31m---------------------------------------------------------------------------\u001b[0m",
      "\u001b[1;31mPydanticImportError\u001b[0m                       Traceback (most recent call last)",
      "Cell \u001b[1;32mIn[33], line 1\u001b[0m\n\u001b[1;32m----> 1\u001b[0m \u001b[38;5;28;01mfrom\u001b[39;00m \u001b[38;5;21;01mpandas_profiling\u001b[39;00m \u001b[38;5;28;01mimport\u001b[39;00m ProfileReport\n",
      "File \u001b[1;32mc:\\Users\\Admin\\venv\\lib\\site-packages\\pandas_profiling\\__init__.py:8\u001b[0m\n\u001b[0;32m      1\u001b[0m \u001b[38;5;124;03m\"\"\"Main module of pandas-profiling.\u001b[39;00m\n\u001b[0;32m      2\u001b[0m \n\u001b[0;32m      3\u001b[0m \u001b[38;5;124;03m.. include:: ../../README.md\u001b[39;00m\n\u001b[0;32m      4\u001b[0m \u001b[38;5;124;03m\"\"\"\u001b[39;00m\n\u001b[0;32m      6\u001b[0m \u001b[38;5;28;01mfrom\u001b[39;00m \u001b[38;5;21;01mwarnings\u001b[39;00m \u001b[38;5;28;01mimport\u001b[39;00m warn\n\u001b[1;32m----> 8\u001b[0m \u001b[38;5;28;01mfrom\u001b[39;00m \u001b[38;5;21;01mpandas_profiling\u001b[39;00m\u001b[38;5;21;01m.\u001b[39;00m\u001b[38;5;21;01mcompare_reports\u001b[39;00m \u001b[38;5;28;01mimport\u001b[39;00m compare\n\u001b[0;32m      9\u001b[0m \u001b[38;5;28;01mfrom\u001b[39;00m \u001b[38;5;21;01mpandas_profiling\u001b[39;00m\u001b[38;5;21;01m.\u001b[39;00m\u001b[38;5;21;01mcontroller\u001b[39;00m \u001b[38;5;28;01mimport\u001b[39;00m pandas_decorator\n\u001b[0;32m     10\u001b[0m \u001b[38;5;28;01mfrom\u001b[39;00m \u001b[38;5;21;01mpandas_profiling\u001b[39;00m\u001b[38;5;21;01m.\u001b[39;00m\u001b[38;5;21;01mprofile_report\u001b[39;00m \u001b[38;5;28;01mimport\u001b[39;00m ProfileReport\n",
      "File \u001b[1;32mc:\\Users\\Admin\\venv\\lib\\site-packages\\pandas_profiling\\compare_reports.py:6\u001b[0m\n\u001b[0;32m      2\u001b[0m \u001b[38;5;28;01mfrom\u001b[39;00m \u001b[38;5;21;01mtyping\u001b[39;00m \u001b[38;5;28;01mimport\u001b[39;00m Any, List, Optional, Tuple, Union\n\u001b[0;32m      4\u001b[0m \u001b[38;5;28;01mimport\u001b[39;00m \u001b[38;5;21;01mpandas\u001b[39;00m \u001b[38;5;28;01mas\u001b[39;00m \u001b[38;5;21;01mpd\u001b[39;00m\n\u001b[1;32m----> 6\u001b[0m \u001b[38;5;28;01mfrom\u001b[39;00m \u001b[38;5;21;01mpandas_profiling\u001b[39;00m\u001b[38;5;21;01m.\u001b[39;00m\u001b[38;5;21;01mconfig\u001b[39;00m \u001b[38;5;28;01mimport\u001b[39;00m Correlation, Settings\n\u001b[0;32m      7\u001b[0m \u001b[38;5;28;01mfrom\u001b[39;00m \u001b[38;5;21;01mpandas_profiling\u001b[39;00m\u001b[38;5;21;01m.\u001b[39;00m\u001b[38;5;21;01mmodel\u001b[39;00m\u001b[38;5;21;01m.\u001b[39;00m\u001b[38;5;21;01malerts\u001b[39;00m \u001b[38;5;28;01mimport\u001b[39;00m Alert\n\u001b[0;32m      8\u001b[0m \u001b[38;5;28;01mfrom\u001b[39;00m \u001b[38;5;21;01mpandas_profiling\u001b[39;00m\u001b[38;5;21;01m.\u001b[39;00m\u001b[38;5;21;01mprofile_report\u001b[39;00m \u001b[38;5;28;01mimport\u001b[39;00m ProfileReport\n",
      "File \u001b[1;32mc:\\Users\\Admin\\venv\\lib\\site-packages\\pandas_profiling\\config.py:7\u001b[0m\n\u001b[0;32m      4\u001b[0m \u001b[38;5;28;01mfrom\u001b[39;00m \u001b[38;5;21;01mtyping\u001b[39;00m \u001b[38;5;28;01mimport\u001b[39;00m Any, Dict, List, Optional, Tuple, Union\n\u001b[0;32m      6\u001b[0m \u001b[38;5;28;01mimport\u001b[39;00m \u001b[38;5;21;01myaml\u001b[39;00m\n\u001b[1;32m----> 7\u001b[0m \u001b[38;5;28;01mfrom\u001b[39;00m \u001b[38;5;21;01mpydantic\u001b[39;00m \u001b[38;5;28;01mimport\u001b[39;00m BaseModel, BaseSettings, Field, PrivateAttr\n\u001b[0;32m     10\u001b[0m \u001b[38;5;28;01mdef\u001b[39;00m \u001b[38;5;21m_merge_dictionaries\u001b[39m(dict1: \u001b[38;5;28mdict\u001b[39m, dict2: \u001b[38;5;28mdict\u001b[39m) \u001b[38;5;241m-\u001b[39m\u001b[38;5;241m>\u001b[39m \u001b[38;5;28mdict\u001b[39m:\n\u001b[0;32m     11\u001b[0m \u001b[38;5;250m    \u001b[39m\u001b[38;5;124;03m\"\"\"\u001b[39;00m\n\u001b[0;32m     12\u001b[0m \u001b[38;5;124;03m    Recursive merge dictionaries.\u001b[39;00m\n\u001b[0;32m     13\u001b[0m \n\u001b[1;32m   (...)\u001b[0m\n\u001b[0;32m     16\u001b[0m \u001b[38;5;124;03m    :return: Merged dictionary\u001b[39;00m\n\u001b[0;32m     17\u001b[0m \u001b[38;5;124;03m    \"\"\"\u001b[39;00m\n",
      "File \u001b[1;32mc:\\Users\\Admin\\venv\\lib\\site-packages\\pydantic\\__init__.py:395\u001b[0m, in \u001b[0;36m__getattr__\u001b[1;34m(attr_name)\u001b[0m\n\u001b[0;32m    393\u001b[0m dynamic_attr \u001b[38;5;241m=\u001b[39m _dynamic_imports\u001b[38;5;241m.\u001b[39mget(attr_name)\n\u001b[0;32m    394\u001b[0m \u001b[38;5;28;01mif\u001b[39;00m dynamic_attr \u001b[38;5;129;01mis\u001b[39;00m \u001b[38;5;28;01mNone\u001b[39;00m:\n\u001b[1;32m--> 395\u001b[0m     \u001b[38;5;28;01mreturn\u001b[39;00m \u001b[43m_getattr_migration\u001b[49m\u001b[43m(\u001b[49m\u001b[43mattr_name\u001b[49m\u001b[43m)\u001b[49m\n\u001b[0;32m    397\u001b[0m package, module_name \u001b[38;5;241m=\u001b[39m dynamic_attr\n\u001b[0;32m    399\u001b[0m \u001b[38;5;28;01mfrom\u001b[39;00m \u001b[38;5;21;01mimportlib\u001b[39;00m \u001b[38;5;28;01mimport\u001b[39;00m import_module\n",
      "File \u001b[1;32mc:\\Users\\Admin\\venv\\lib\\site-packages\\pydantic\\_migration.py:296\u001b[0m, in \u001b[0;36mgetattr_migration.<locals>.wrapper\u001b[1;34m(name)\u001b[0m\n\u001b[0;32m    294\u001b[0m     \u001b[38;5;28;01mreturn\u001b[39;00m import_string(REDIRECT_TO_V1[import_path])\n\u001b[0;32m    295\u001b[0m \u001b[38;5;28;01mif\u001b[39;00m import_path \u001b[38;5;241m==\u001b[39m \u001b[38;5;124m'\u001b[39m\u001b[38;5;124mpydantic:BaseSettings\u001b[39m\u001b[38;5;124m'\u001b[39m:\n\u001b[1;32m--> 296\u001b[0m     \u001b[38;5;28;01mraise\u001b[39;00m PydanticImportError(\n\u001b[0;32m    297\u001b[0m         \u001b[38;5;124m'\u001b[39m\u001b[38;5;124m`BaseSettings` has been moved to the `pydantic-settings` package. \u001b[39m\u001b[38;5;124m'\u001b[39m\n\u001b[0;32m    298\u001b[0m         \u001b[38;5;124mf\u001b[39m\u001b[38;5;124m'\u001b[39m\u001b[38;5;124mSee https://docs.pydantic.dev/\u001b[39m\u001b[38;5;132;01m{\u001b[39;00mversion_short()\u001b[38;5;132;01m}\u001b[39;00m\u001b[38;5;124m/migration/#basesettings-has-moved-to-pydantic-settings \u001b[39m\u001b[38;5;124m'\u001b[39m\n\u001b[0;32m    299\u001b[0m         \u001b[38;5;124m'\u001b[39m\u001b[38;5;124mfor more details.\u001b[39m\u001b[38;5;124m'\u001b[39m\n\u001b[0;32m    300\u001b[0m     )\n\u001b[0;32m    301\u001b[0m \u001b[38;5;28;01mif\u001b[39;00m import_path \u001b[38;5;129;01min\u001b[39;00m REMOVED_IN_V2:\n\u001b[0;32m    302\u001b[0m     \u001b[38;5;28;01mraise\u001b[39;00m PydanticImportError(\u001b[38;5;124mf\u001b[39m\u001b[38;5;124m'\u001b[39m\u001b[38;5;124m`\u001b[39m\u001b[38;5;132;01m{\u001b[39;00mimport_path\u001b[38;5;132;01m}\u001b[39;00m\u001b[38;5;124m` has been removed in V2.\u001b[39m\u001b[38;5;124m'\u001b[39m)\n",
      "\u001b[1;31mPydanticImportError\u001b[0m: `BaseSettings` has been moved to the `pydantic-settings` package. See https://docs.pydantic.dev/2.8/migration/#basesettings-has-moved-to-pydantic-settings for more details.\n\nFor further information visit https://errors.pydantic.dev/2.8/u/import-error"
     ]
    }
   ],
   "source": [
    "from pandas_profiling import ProfileReport"
   ]
  },
  {
   "cell_type": "code",
   "execution_count": null,
   "metadata": {},
   "outputs": [],
   "source": [
    "profile = ProfileReport(d, title=\"Pandas Profiling Report\", explorative=True)\n",
    "\n",
    "# To display the report in a Jupyter Notebook or Jupyter Lab\n",
    "profile.to_notebook_iframe()\n",
    "\n",
    "# Or, to save the report as an HTML file\n",
    "profile.to_file(\"pandas_profiling_report.html\")"
   ]
  },
  {
   "cell_type": "code",
   "execution_count": null,
   "metadata": {},
   "outputs": [],
   "source": []
  }
 ],
 "metadata": {
  "kernelspec": {
   "display_name": "Python 3",
   "language": "python",
   "name": "python3"
  },
  "language_info": {
   "codemirror_mode": {
    "name": "ipython",
    "version": 3
   },
   "file_extension": ".py",
   "mimetype": "text/x-python",
   "name": "python",
   "nbconvert_exporter": "python",
   "pygments_lexer": "ipython3",
   "version": "3.10.14"
  }
 },
 "nbformat": 4,
 "nbformat_minor": 2
}
